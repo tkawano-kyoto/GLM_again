{
 "cells": [
  {
   "cell_type": "code",
   "execution_count": 27,
   "metadata": {},
   "outputs": [],
   "source": [
    "using GLM,DataFrames"
   ]
  },
  {
   "cell_type": "code",
   "execution_count": 28,
   "metadata": {},
   "outputs": [
    {
     "data": {
      "text/plain": [
       "117×4 Matrix{Float64}:\n",
       " 1.0  1.0  0.0  0.0\n",
       " 1.0  1.0  0.0  0.0\n",
       " 0.0  1.0  0.0  0.0\n",
       " 0.0  1.0  0.0  0.0\n",
       " 0.0  1.0  0.0  0.0\n",
       " 0.0  1.0  0.0  0.0\n",
       " 0.0  1.0  0.0  0.0\n",
       " 0.0  1.0  0.0  0.0\n",
       " 0.0  1.0  0.0  0.0\n",
       " 0.0  1.0  0.0  0.0\n",
       " ⋮              \n",
       " 0.0  0.0  0.0  1.0\n",
       " 0.0  0.0  0.0  1.0\n",
       " 0.0  0.0  0.0  1.0\n",
       " 0.0  0.0  0.0  1.0\n",
       " 0.0  0.0  0.0  1.0\n",
       " 0.0  0.0  0.0  1.0\n",
       " 0.0  0.0  0.0  1.0\n",
       " 0.0  0.0  0.0  1.0\n",
       " 0.0  0.0  0.0  1.0"
      ]
     },
     "metadata": {},
     "output_type": "display_data"
    }
   ],
   "source": [
    "mat =[\n",
    "       1 \t\t1.0        0.0        0.0\n",
    "       1 \t\t1.0        0.0        0.0\n",
    "       0\t\t1.0        0.0        0.0\n",
    "       0 \t\t1.0        0.0        0.0\n",
    "       0\t\t1.0        0.0        0.0\n",
    "       0 \t\t1.0        0.0        0.0\n",
    "       0 \t\t1.0        0.0        0.0\n",
    "       0 \t\t1.0        0.0        0.0\n",
    "       0 \t\t1.0        0.0        0.0\n",
    "       0 \t\t1.0        0.0        0.0\n",
    "       0 \t\t1.0        0.0        0.0\n",
    "       0 \t\t1.0        0.0        0.0\n",
    "       0 \t\t1.0        0.0        0.0\n",
    "       0 \t\t1.0        0.0        0.0\n",
    "       0 \t\t1.0        0.0        0.0\n",
    "       0 \t\t1.0        0.0        0.0\n",
    "       0 \t\t1.0        0.0        0.0\n",
    "       0\t \t1.0        0.0        0.0\n",
    "       0 \t\t1.0        0.0        0.0\n",
    "       0 \t\t1.0        0.0        0.0\n",
    "       1        1.0        1.0        0.0\n",
    "       1        1.0        1.0        0.0\n",
    "       1        1.0        1.0        0.0\n",
    "       1        1.0        1.0        0.0\n",
    "       1        1.0        1.0        0.0\n",
    "       1        1.0        1.0        0.0\n",
    "       1        1.0        1.0        0.0\n",
    "       0        1.0        1.0        0.0        \n",
    "       0        1.0        1.0        0.0\n",
    "       0        1.0        1.0        0.0\n",
    "       0        1.0        1.0        0.0\n",
    "       0        1.0        1.0        0.0\n",
    "       0        1.0        1.0        0.0\n",
    "       0        1.0        1.0        0.0\n",
    "       0        1.0        1.0        0.0\n",
    "       0        1.0        1.0        0.0\n",
    "       0        1.0        1.0        0.0\n",
    "       0        1.0        1.0        0.0\n",
    "       0        1.0        1.0        0.0\n",
    "       0        1.0        1.0        0.0\n",
    "       0        1.0        1.0        0.0\n",
    "       1        1.0        0.0        1.0\n",
    "       1        1.0        0.0        1.0\n",
    "       1        1.0        0.0        1.0\n",
    "       0        1.0        0.0        1.0\n",
    "       0        1.0        0.0        1.0\n",
    "       0        1.0        0.0        1.0\n",
    "       0        1.0        0.0        1.0\n",
    "       0        1.0        0.0        1.0\n",
    "       0        1.0        0.0        1.0\n",
    "       0        1.0        0.0        1.0\n",
    "       0        1.0        0.0        1.0\n",
    "       0        1.0        0.0        1.0\n",
    "       0        1.0        0.0        1.0\n",
    "       0        1.0        0.0        1.0\n",
    "       0        1.0        0.0        1.0\n",
    "       0        1.0        0.0        1.0\n",
    "       0        1.0        0.0        1.0\n",
    "       0        1.0        0.0        1.0\n",
    "       0        1.0        0.0        1.0\n",
    "       0        1.0        0.0        1.0\n",
    "       1        0.0        0.0        0.0\n",
    "       1        0.0        0.0        0.0\n",
    "       1        0.0        0.0        0.0\n",
    "       1        0.0        0.0        0.0\n",
    "       1        0.0        0.0        0.0\n",
    "       1        0.0        0.0        0.0\n",
    "       1        0.0        0.0        0.0\n",
    "       1        0.0        0.0        0.0\n",
    "       1        0.0        0.0        0.0\n",
    "       0        0.0        0.0        0.0\n",
    "       0        0.0        0.0        0.0\n",
    "       0        0.0        0.0        0.0\n",
    "       0        0.0        0.0        0.0\n",
    "       0        0.0        0.0        0.0\n",
    "       0        0.0        0.0        0.0\n",
    "       0        0.0        0.0        0.0\n",
    "       0        0.0        0.0        0.0\n",
    "       0        0.0        0.0        0.0\n",
    "       0        0.0        0.0        0.0\n",
    "       0        0.0        0.0        0.0\n",
    "       0        0.0        0.0        0.0\n",
    "       1        0.0        1.0        0.0        \n",
    "       1        0.0        1.0        0.0\n",
    "       1        0.0        1.0        0.0\n",
    "       1        0.0        1.0        0.0\n",
    "       1        0.0        1.0        0.0\n",
    "       1        0.0        1.0        0.0\n",
    "       0        0.0        1.0        0.0\n",
    "       0        0.0        1.0        0.0\n",
    "       0        0.0        1.0        0.0\n",
    "       0        0.0        1.0        0.0\n",
    "       0        0.0        1.0        0.0\n",
    "       0        0.0        1.0        0.0\n",
    "       0        0.0        1.0        0.0\n",
    "       0        0.0        1.0        0.0\n",
    "       1        0.0        0.0        1.0\n",
    "       1        0.0        0.0        1.0\n",
    "       1        0.0        0.0        1.0\n",
    "       1        0.0        0.0        1.0\n",
    "       1        0.0        0.0        1.0\n",
    "       1        0.0        0.0        1.0\n",
    "       0        0.0        0.0        1.0\n",
    "       0        0.0        0.0        1.0\n",
    "       0        0.0        0.0        1.0\n",
    "       0        0.0        0.0        1.0\n",
    "       0        0.0        0.0        1.0\n",
    "       0        0.0        0.0        1.0\n",
    "       0        0.0        0.0        1.0\n",
    "       0        0.0        0.0        1.0\n",
    "       0        0.0        0.0        1.0\n",
    "       0        0.0        0.0        1.0\n",
    "       0        0.0        0.0        1.0\n",
    "       0        0.0        0.0        1.0\n",
    "       0        0.0        0.0        1.0\n",
    "       0        0.0        0.0        1.0\n",
    "       0        0.0        0.0        1.0]"
   ]
  },
  {
   "cell_type": "code",
   "execution_count": 29,
   "metadata": {},
   "outputs": [],
   "source": [
    "data=DataFrame(mat,[:Y,:sex,:grade2,:grade3]);"
   ]
  },
  {
   "cell_type": "code",
   "execution_count": 30,
   "metadata": {},
   "outputs": [
    {
     "data": {
      "text/plain": [
       "StatsModels.TableRegressionModel{GeneralizedLinearModel{GLM.GlmResp{Vector{Float64}, Binomial{Float64}, LogitLink}, GLM.DensePredChol{Float64, LinearAlgebra.CholeskyPivoted{Float64, Matrix{Float64}, Vector{Int64}}}}, Matrix{Float64}}\n",
       "\n",
       "Y ~ 1 + sex + grade2 + grade3\n",
       "\n",
       "Coefficients:\n",
       "─────────────────────────────────────────────────────────────────────────\n",
       "                 Coef.  Std. Error      z  Pr(>|z|)  Lower 95%  Upper 95%\n",
       "─────────────────────────────────────────────────────────────────────────\n",
       "(Intercept)  -0.57479     0.395293  -1.45    0.1459  -1.34955    0.199969\n",
       "sex          -0.997702    0.436959  -2.28    0.0224  -1.85413   -0.141278\n",
       "grade2        0.619447    0.515354   1.20    0.2294  -0.390628   1.62952\n",
       "grade3       -0.27683     0.527482  -0.52    0.5997  -1.31068    0.757015\n",
       "─────────────────────────────────────────────────────────────────────────"
      ]
     },
     "metadata": {},
     "output_type": "display_data"
    }
   ],
   "source": [
    "gm_all=glm(@formula(Y ~ sex+grade2+grade3), data, Binomial(), LogitLink())"
   ]
  },
  {
   "cell_type": "code",
   "execution_count": 31,
   "metadata": {},
   "outputs": [
    {
     "data": {
      "text/plain": [
       "StatsModels.TableRegressionModel{GeneralizedLinearModel{GLM.GlmResp{Vector{Float64}, Binomial{Float64}, LogitLink}, GLM.DensePredChol{Float64, LinearAlgebra.CholeskyPivoted{Float64, Matrix{Float64}, Vector{Int64}}}}, Matrix{Float64}}\n",
       "\n",
       "Y ~ 1 + sex\n",
       "\n",
       "Coefficients:\n",
       "──────────────────────────────────────────────────────────────────────────\n",
       "                 Coef.  Std. Error      z  Pr(>|z|)  Lower 95%   Upper 95%\n",
       "──────────────────────────────────────────────────────────────────────────\n",
       "(Intercept)  -0.510825    0.27598   -1.85    0.0642   -1.05174   0.030086\n",
       "sex          -0.896088    0.424045  -2.11    0.0346   -1.7272   -0.0649738\n",
       "──────────────────────────────────────────────────────────────────────────"
      ]
     },
     "metadata": {},
     "output_type": "display_data"
    }
   ],
   "source": [
    "gm_sex=glm(@formula(Y ~ sex), data, Binomial(), LogitLink())"
   ]
  },
  {
   "cell_type": "code",
   "execution_count": 32,
   "metadata": {},
   "outputs": [
    {
     "data": {
      "text/plain": [
       "StatsModels.TableRegressionModel{GeneralizedLinearModel{GLM.GlmResp{Vector{Float64}, Binomial{Float64}, LogitLink}, GLM.DensePredChol{Float64, LinearAlgebra.CholeskyPivoted{Float64, Matrix{Float64}, Vector{Int64}}}}, Matrix{Float64}}\n",
       "\n",
       "Y ~ 1 + sex + grade2\n",
       "\n",
       "Coefficients:\n",
       "─────────────────────────────────────────────────────────────────────────\n",
       "                 Coef.  Std. Error      z  Pr(>|z|)  Lower 95%  Upper 95%\n",
       "─────────────────────────────────────────────────────────────────────────\n",
       "(Intercept)  -0.709498    0.305938  -2.32    0.0204  -1.30913   -0.109871\n",
       "sex          -0.995568    0.436476  -2.28    0.0226  -1.85105   -0.14009\n",
       "grade2        0.752988    0.453056   1.66    0.0965  -0.134986   1.64096\n",
       "─────────────────────────────────────────────────────────────────────────"
      ]
     },
     "metadata": {},
     "output_type": "display_data"
    }
   ],
   "source": [
    "gm_sexgr2=glm(@formula(Y ~ sex+grade2), data, Binomial(), LogitLink())"
   ]
  },
  {
   "cell_type": "code",
   "execution_count": 33,
   "metadata": {},
   "outputs": [
    {
     "data": {
      "text/plain": [
       "StatsModels.TableRegressionModel{GeneralizedLinearModel{GLM.GlmResp{Vector{Float64}, Binomial{Float64}, LogitLink}, GLM.DensePredChol{Float64, LinearAlgebra.CholeskyPivoted{Float64, Matrix{Float64}, Vector{Int64}}}}, Matrix{Float64}}\n",
       "\n",
       "Y ~ 1 + grade3\n",
       "\n",
       "Coefficients:\n",
       "─────────────────────────────────────────────────────────────────────────\n",
       "                 Coef.  Std. Error      z  Pr(>|z|)  Lower 95%  Upper 95%\n",
       "─────────────────────────────────────────────────────────────────────────\n",
       "(Intercept)  -0.77319     0.246774  -3.13    0.0017   -1.25686  -0.289522\n",
       "grade3       -0.495321    0.450842  -1.10    0.2719   -1.37896   0.388312\n",
       "─────────────────────────────────────────────────────────────────────────"
      ]
     },
     "metadata": {},
     "output_type": "display_data"
    }
   ],
   "source": [
    "gm_gr3=glm(@formula(Y ~ grade3), data, Binomial(), LogitLink())"
   ]
  },
  {
   "cell_type": "code",
   "execution_count": 34,
   "metadata": {},
   "outputs": [
    {
     "data": {
      "text/plain": [
       "StatsModels.TableRegressionModel{GeneralizedLinearModel{GLM.GlmResp{Vector{Float64}, Binomial{Float64}, LogitLink}, GLM.DensePredChol{Float64, LinearAlgebra.CholeskyPivoted{Float64, Matrix{Float64}, Vector{Int64}}}}, Matrix{Float64}}\n",
       "\n",
       "Y ~ 1\n",
       "\n",
       "Coefficients:\n",
       "─────────────────────────────────────────────────────────────────────────\n",
       "                 Coef.  Std. Error      z  Pr(>|z|)  Lower 95%  Upper 95%\n",
       "─────────────────────────────────────────────────────────────────────────\n",
       "(Intercept)  -0.934309    0.205445  -4.55    <1e-05   -1.33697  -0.531644\n",
       "─────────────────────────────────────────────────────────────────────────"
      ]
     },
     "metadata": {},
     "output_type": "display_data"
    }
   ],
   "source": [
    "gm_1=glm(@formula(Y ~ 1), data, Binomial(), LogitLink())"
   ]
  },
  {
   "cell_type": "code",
   "execution_count": 36,
   "metadata": {},
   "outputs": [],
   "source": [
    "mat=[\n",
    "1\t53\n",
    "1\t53\n",
    "0\t53\n",
    "0\t53\n",
    "0\t53\n",
    "0\t53\n",
    "0\t66\n",
    "0\t66\n",
    "0\t66\n",
    "0\t66\n",
    "0\t66\n",
    "0\t66\n",
    "0\t68\n",
    "0\t68\n",
    "0\t68\n",
    "0\t68\n",
    "0\t68\n",
    "0\t68\n",
    "1\t70\n",
    "0\t70\n",
    "0\t70\n",
    "0\t70\n",
    "0\t70\n",
    "0\t70\n",
    "0\t75\n",
    "0\t75\n",
    "0\t75\n",
    "0\t75\n",
    "0\t75\n",
    "0\t75\n",
    "0\t78\n",
    "0\t78\n",
    "0\t78\n",
    "0\t78\n",
    "0\t78\n",
    "0\t78\n",
    "1\t57\n",
    "0\t57\n",
    "0\t57\n",
    "0\t57\n",
    "0\t57\n",
    "0\t57\n",
    "0\t67\n",
    "0\t67\n",
    "0\t67\n",
    "0\t67\n",
    "0\t67\n",
    "0\t67\n",
    "0\t69\n",
    "0\t69\n",
    "0\t69\n",
    "0\t69\n",
    "0\t69\n",
    "0\t69\n",
    "1\t70\n",
    "0\t70\n",
    "0\t70\n",
    "0\t70\n",
    "0\t70\n",
    "0\t70\n",
    "1\t75\n",
    "1\t75\n",
    "0\t75\n",
    "0\t75\n",
    "0\t75\n",
    "0\t75\n",
    "0\t79\n",
    "0\t79\n",
    "0\t79\n",
    "0\t79\n",
    "0\t79\n",
    "0\t79\n",
    "1\t58\n",
    "0\t58\n",
    "0\t58\n",
    "0\t58\n",
    "0\t58\n",
    "0\t58\n",
    "0\t67\n",
    "0\t67\n",
    "0\t67\n",
    "0\t67\n",
    "0\t67\n",
    "0\t67\n",
    "0\t70\n",
    "0\t70\n",
    "0\t70\n",
    "0\t70\n",
    "0\t70\n",
    "0\t70\n",
    "0\t72\n",
    "0\t72\n",
    "0\t72\n",
    "0\t72\n",
    "0\t72\n",
    "0\t72\n",
    "0\t76\n",
    "0\t76\n",
    "0\t76\n",
    "0\t76\n",
    "0\t76\n",
    "0\t76\n",
    "0\t81\n",
    "0\t81\n",
    "0\t81\n",
    "0\t81\n",
    "0\t81\n",
    "0\t81\n",
    "1\t63\n",
    "0\t63\n",
    "0\t63\n",
    "0\t63\n",
    "0\t63\n",
    "0\t63\n",
    "0\t67\n",
    "0\t67\n",
    "0\t67\n",
    "0\t67\n",
    "0\t67\n",
    "0\t67\n",
    "0\t70\n",
    "0\t70\n",
    "0\t70\n",
    "0\t70\n",
    "0\t70\n",
    "0\t70\n",
    "0\t73\n",
    "0\t73\n",
    "0\t73\n",
    "0\t73\n",
    "0\t73\n",
    "0\t73\n",
    "0\t76\n",
    "0\t76\n",
    "0\t76\n",
    "0\t76\n",
    "0\t76];"
   ]
  },
  {
   "cell_type": "code",
   "execution_count": 39,
   "metadata": {},
   "outputs": [],
   "source": [
    "data=DataFrame(mat,[:Y,:temp]);"
   ]
  },
  {
   "cell_type": "code",
   "execution_count": 40,
   "metadata": {},
   "outputs": [
    {
     "data": {
      "text/plain": [
       "StatsModels.TableRegressionModel{GeneralizedLinearModel{GLM.GlmResp{Vector{Float64}, Binomial{Float64}, LogitLink}, GLM.DensePredChol{Float64, LinearAlgebra.CholeskyPivoted{Float64, Matrix{Float64}, Vector{Int64}}}}, Matrix{Float64}}\n",
       "\n",
       "Y ~ 1 + temp\n",
       "\n",
       "Coefficients:\n",
       "──────────────────────────────────────────────────────────────────────────\n",
       "                 Coef.  Std. Error      z  Pr(>|z|)  Lower 95%   Upper 95%\n",
       "──────────────────────────────────────────────────────────────────────────\n",
       "(Intercept)   5.04813    3.05671     1.65    0.0986  -0.942901  11.0392\n",
       "temp         -0.114982   0.0470901  -2.44    0.0146  -0.207277  -0.0226874\n",
       "──────────────────────────────────────────────────────────────────────────"
      ]
     },
     "metadata": {},
     "output_type": "display_data"
    }
   ],
   "source": [
    "glm(@formula(Y ~ temp), data, Binomial(), LogitLink())"
   ]
  },
  {
   "cell_type": "code",
   "execution_count": null,
   "metadata": {},
   "outputs": [],
   "source": []
  }
 ],
 "metadata": {
  "kernelspec": {
   "display_name": "Julia 1.8.5",
   "language": "julia",
   "name": "julia-1.8"
  },
  "language_info": {
   "file_extension": ".jl",
   "mimetype": "application/julia",
   "name": "julia",
   "version": "1.8.5"
  },
  "orig_nbformat": 4
 },
 "nbformat": 4,
 "nbformat_minor": 2
}
